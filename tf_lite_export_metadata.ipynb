{
  "nbformat": 4,
  "nbformat_minor": 0,
  "metadata": {
    "colab": {
      "name": "tf_lite_export_metadata.ipynb",
      "provenance": []
    },
    "kernelspec": {
      "name": "python3",
      "display_name": "Python 3"
    },
    "language_info": {
      "name": "python"
    }
  },
  "cells": [
    {
      "cell_type": "code",
      "source": [
        "!pip install tf-estimator-nightly==2.8.0.dev2021122109"
      ],
      "metadata": {
        "colab": {
          "base_uri": "https://localhost:8080/"
        },
        "id": "QoQFcw1TW18M",
        "outputId": "7a413928-bd81-43ac-c1f9-8c8480d058df"
      },
      "execution_count": 3,
      "outputs": [
        {
          "output_type": "stream",
          "name": "stdout",
          "text": [
            "Collecting tf-estimator-nightly==2.8.0.dev2021122109\n",
            "  Downloading tf_estimator_nightly-2.8.0.dev2021122109-py2.py3-none-any.whl (462 kB)\n",
            "\u001b[?25l\r\u001b[K     |▊                               | 10 kB 21.0 MB/s eta 0:00:01\r\u001b[K     |█▍                              | 20 kB 17.1 MB/s eta 0:00:01\r\u001b[K     |██▏                             | 30 kB 11.0 MB/s eta 0:00:01\r\u001b[K     |██▉                             | 40 kB 8.9 MB/s eta 0:00:01\r\u001b[K     |███▌                            | 51 kB 4.6 MB/s eta 0:00:01\r\u001b[K     |████▎                           | 61 kB 5.4 MB/s eta 0:00:01\r\u001b[K     |█████                           | 71 kB 5.8 MB/s eta 0:00:01\r\u001b[K     |█████▊                          | 81 kB 6.0 MB/s eta 0:00:01\r\u001b[K     |██████▍                         | 92 kB 6.6 MB/s eta 0:00:01\r\u001b[K     |███████                         | 102 kB 5.4 MB/s eta 0:00:01\r\u001b[K     |███████▉                        | 112 kB 5.4 MB/s eta 0:00:01\r\u001b[K     |████████▌                       | 122 kB 5.4 MB/s eta 0:00:01\r\u001b[K     |█████████▏                      | 133 kB 5.4 MB/s eta 0:00:01\r\u001b[K     |██████████                      | 143 kB 5.4 MB/s eta 0:00:01\r\u001b[K     |██████████▋                     | 153 kB 5.4 MB/s eta 0:00:01\r\u001b[K     |███████████▍                    | 163 kB 5.4 MB/s eta 0:00:01\r\u001b[K     |████████████                    | 174 kB 5.4 MB/s eta 0:00:01\r\u001b[K     |████████████▊                   | 184 kB 5.4 MB/s eta 0:00:01\r\u001b[K     |█████████████▌                  | 194 kB 5.4 MB/s eta 0:00:01\r\u001b[K     |██████████████▏                 | 204 kB 5.4 MB/s eta 0:00:01\r\u001b[K     |██████████████▉                 | 215 kB 5.4 MB/s eta 0:00:01\r\u001b[K     |███████████████▋                | 225 kB 5.4 MB/s eta 0:00:01\r\u001b[K     |████████████████▎               | 235 kB 5.4 MB/s eta 0:00:01\r\u001b[K     |█████████████████               | 245 kB 5.4 MB/s eta 0:00:01\r\u001b[K     |█████████████████▊              | 256 kB 5.4 MB/s eta 0:00:01\r\u001b[K     |██████████████████▍             | 266 kB 5.4 MB/s eta 0:00:01\r\u001b[K     |███████████████████▏            | 276 kB 5.4 MB/s eta 0:00:01\r\u001b[K     |███████████████████▉            | 286 kB 5.4 MB/s eta 0:00:01\r\u001b[K     |████████████████████▌           | 296 kB 5.4 MB/s eta 0:00:01\r\u001b[K     |█████████████████████▎          | 307 kB 5.4 MB/s eta 0:00:01\r\u001b[K     |██████████████████████          | 317 kB 5.4 MB/s eta 0:00:01\r\u001b[K     |██████████████████████▊         | 327 kB 5.4 MB/s eta 0:00:01\r\u001b[K     |███████████████████████▍        | 337 kB 5.4 MB/s eta 0:00:01\r\u001b[K     |████████████████████████        | 348 kB 5.4 MB/s eta 0:00:01\r\u001b[K     |████████████████████████▉       | 358 kB 5.4 MB/s eta 0:00:01\r\u001b[K     |█████████████████████████▌      | 368 kB 5.4 MB/s eta 0:00:01\r\u001b[K     |██████████████████████████▏     | 378 kB 5.4 MB/s eta 0:00:01\r\u001b[K     |███████████████████████████     | 389 kB 5.4 MB/s eta 0:00:01\r\u001b[K     |███████████████████████████▋    | 399 kB 5.4 MB/s eta 0:00:01\r\u001b[K     |████████████████████████████▍   | 409 kB 5.4 MB/s eta 0:00:01\r\u001b[K     |█████████████████████████████   | 419 kB 5.4 MB/s eta 0:00:01\r\u001b[K     |█████████████████████████████▊  | 430 kB 5.4 MB/s eta 0:00:01\r\u001b[K     |██████████████████████████████▌ | 440 kB 5.4 MB/s eta 0:00:01\r\u001b[K     |███████████████████████████████▏| 450 kB 5.4 MB/s eta 0:00:01\r\u001b[K     |███████████████████████████████▉| 460 kB 5.4 MB/s eta 0:00:01\r\u001b[K     |████████████████████████████████| 462 kB 5.4 MB/s \n",
            "\u001b[?25hInstalling collected packages: tf-estimator-nightly\n",
            "Successfully installed tf-estimator-nightly-2.8.0.dev2021122109\n"
          ]
        }
      ]
    },
    {
      "cell_type": "code",
      "execution_count": 4,
      "metadata": {
        "colab": {
          "base_uri": "https://localhost:8080/"
        },
        "id": "dByKRNfuWZUN",
        "outputId": "3b2bf384-3d13-4766-cf59-d10a9b2f3a18"
      },
      "outputs": [
        {
          "output_type": "stream",
          "name": "stdout",
          "text": [
            "Requirement already satisfied: tflite-support-nightly in /usr/local/lib/python3.7/dist-packages (0.3.0.dev20220408)\n",
            "Requirement already satisfied: pybind11>=2.6.0 in /usr/local/lib/python3.7/dist-packages (from tflite-support-nightly) (2.9.2)\n",
            "Requirement already satisfied: flatbuffers<2,>=1.12 in /usr/local/lib/python3.7/dist-packages (from tflite-support-nightly) (1.12)\n",
            "Requirement already satisfied: absl-py>=0.7.0 in /usr/local/lib/python3.7/dist-packages (from tflite-support-nightly) (1.0.0)\n",
            "Requirement already satisfied: numpy>=1.19.2 in /usr/local/lib/python3.7/dist-packages (from tflite-support-nightly) (1.21.5)\n",
            "Requirement already satisfied: six in /usr/local/lib/python3.7/dist-packages (from absl-py>=0.7.0->tflite-support-nightly) (1.15.0)\n"
          ]
        }
      ],
      "source": [
        "!pip install tflite-support-nightly\n"
      ]
    },
    {
      "cell_type": "code",
      "source": [
        "from tflite_support.metadata_writers import object_detector\n",
        "from tflite_support.metadata_writers import writer_utils"
      ],
      "metadata": {
        "id": "Q83U53ebWmSY"
      },
      "execution_count": 5,
      "outputs": []
    },
    {
      "cell_type": "code",
      "source": [
        "from google.colab import drive\n",
        "drive.mount('/content/drive')"
      ],
      "metadata": {
        "colab": {
          "base_uri": "https://localhost:8080/"
        },
        "id": "ak5Z1kgFWoaE",
        "outputId": "740969ee-9c7d-43e1-f96d-28b9db6acdb1"
      },
      "execution_count": 7,
      "outputs": [
        {
          "output_type": "stream",
          "name": "stdout",
          "text": [
            "Mounted at /content/drive\n"
          ]
        }
      ]
    },
    {
      "cell_type": "code",
      "source": [
        "ObjectDetectorWriter = object_detector.MetadataWriter\n",
        "_MODEL_PATH = \"/content/drive/MyDrive/detect.tflite\"\n",
        "# Task Library expects label files that are in the same format as the one below.\n",
        "_LABEL_FILE = \"/content/drive/MyDrive/label.txt\"\n",
        "_SAVE_TO_PATH = \"/content/drive/MyDrive/detect_updated.tflite\"\n",
        "# Normalization parameters is required when reprocessing the image. It is\n",
        "# optional if the image pixel values are in range of [0, 255] and the input\n",
        "# tensor is quantized to uint8. See the introduction for normalization and\n",
        "# quantization parameters below for more details.\n",
        "# https://www.tensorflow.org/lite/convert/metadata#normalization_and_quantization_parameters)\n",
        "_INPUT_NORM_MEAN = 127.5\n",
        "_INPUT_NORM_STD = 127.5\n",
        "\n",
        "# Create the metadata writer.\n",
        "writer = ObjectDetectorWriter.create_for_inference(\n",
        "    writer_utils.load_file(_MODEL_PATH), [_INPUT_NORM_MEAN], [_INPUT_NORM_STD],\n",
        "    [_LABEL_FILE])\n",
        "\n",
        "# Verify the metadata generated by metadata writer.\n",
        "print(writer.get_metadata_json())\n",
        "\n",
        "# Populate the metadata into the model.\n",
        "writer_utils.save_file(writer.populate(), _SAVE_TO_PATH)"
      ],
      "metadata": {
        "colab": {
          "base_uri": "https://localhost:8080/"
        },
        "id": "6aZ-ZrQEWsQ6",
        "outputId": "2d992162-a8cc-48e4-e304-3e89832586e6"
      },
      "execution_count": 8,
      "outputs": [
        {
          "output_type": "stream",
          "name": "stdout",
          "text": [
            "{\n",
            "  \"name\": \"ObjectDetector\",\n",
            "  \"description\": \"Identify which of a known set of objects might be present and provide information about their positions within the given image or a video stream.\",\n",
            "  \"subgraph_metadata\": [\n",
            "    {\n",
            "      \"input_tensor_metadata\": [\n",
            "        {\n",
            "          \"name\": \"image\",\n",
            "          \"description\": \"Input image to be detected.\",\n",
            "          \"content\": {\n",
            "            \"content_properties_type\": \"ImageProperties\",\n",
            "            \"content_properties\": {\n",
            "              \"color_space\": \"RGB\"\n",
            "            }\n",
            "          },\n",
            "          \"process_units\": [\n",
            "            {\n",
            "              \"options_type\": \"NormalizationOptions\",\n",
            "              \"options\": {\n",
            "                \"mean\": [\n",
            "                  127.5\n",
            "                ],\n",
            "                \"std\": [\n",
            "                  127.5\n",
            "                ]\n",
            "              }\n",
            "            }\n",
            "          ],\n",
            "          \"stats\": {\n",
            "            \"max\": [\n",
            "              1.0\n",
            "            ],\n",
            "            \"min\": [\n",
            "              -1.0\n",
            "            ]\n",
            "          }\n",
            "        }\n",
            "      ],\n",
            "      \"output_tensor_metadata\": [\n",
            "        {\n",
            "          \"name\": \"score\",\n",
            "          \"description\": \"The scores of the detected boxes.\",\n",
            "          \"content\": {\n",
            "            \"content_properties_type\": \"FeatureProperties\",\n",
            "            \"content_properties\": {\n",
            "            },\n",
            "            \"range\": {\n",
            "              \"min\": 2,\n",
            "              \"max\": 2\n",
            "            }\n",
            "          },\n",
            "          \"stats\": {\n",
            "          }\n",
            "        },\n",
            "        {\n",
            "          \"name\": \"location\",\n",
            "          \"description\": \"The locations of the detected boxes.\",\n",
            "          \"content\": {\n",
            "            \"content_properties_type\": \"BoundingBoxProperties\",\n",
            "            \"content_properties\": {\n",
            "              \"index\": [\n",
            "                1,\n",
            "                0,\n",
            "                3,\n",
            "                2\n",
            "              ],\n",
            "              \"type\": \"BOUNDARIES\"\n",
            "            },\n",
            "            \"range\": {\n",
            "              \"min\": 2,\n",
            "              \"max\": 2\n",
            "            }\n",
            "          },\n",
            "          \"stats\": {\n",
            "          }\n",
            "        },\n",
            "        {\n",
            "          \"name\": \"number of detections\",\n",
            "          \"description\": \"The number of the detected boxes.\",\n",
            "          \"content\": {\n",
            "            \"content_properties_type\": \"FeatureProperties\",\n",
            "            \"content_properties\": {\n",
            "            }\n",
            "          },\n",
            "          \"stats\": {\n",
            "          }\n",
            "        },\n",
            "        {\n",
            "          \"name\": \"category\",\n",
            "          \"description\": \"The categories of the detected boxes.\",\n",
            "          \"content\": {\n",
            "            \"content_properties_type\": \"FeatureProperties\",\n",
            "            \"content_properties\": {\n",
            "            },\n",
            "            \"range\": {\n",
            "              \"min\": 2,\n",
            "              \"max\": 2\n",
            "            }\n",
            "          },\n",
            "          \"stats\": {\n",
            "          },\n",
            "          \"associated_files\": [\n",
            "            {\n",
            "              \"name\": \"label.txt\",\n",
            "              \"description\": \"Labels for categories that the model can recognize.\",\n",
            "              \"type\": \"TENSOR_VALUE_LABELS\"\n",
            "            }\n",
            "          ]\n",
            "        }\n",
            "      ],\n",
            "      \"output_tensor_groups\": [\n",
            "        {\n",
            "          \"name\": \"detection_result\",\n",
            "          \"tensor_names\": [\n",
            "            \"location\",\n",
            "            \"category\",\n",
            "            \"score\"\n",
            "          ]\n",
            "        }\n",
            "      ]\n",
            "    }\n",
            "  ]\n",
            "}\n",
            "\n"
          ]
        }
      ]
    }
  ]
}